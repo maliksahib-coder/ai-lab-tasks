{
 "cells": [
  {
   "cell_type": "code",
   "execution_count": 1,
   "id": "f35c5ece",
   "metadata": {},
   "outputs": [
    {
     "name": "stdout",
     "output_type": "stream",
     "text": [
      "Invalid Card Number\n"
     ]
    }
   ],
   "source": [
    "def luhn_algorithm(card_number):\n",
    "    digits = [int(d) for d in str(card_number)]\n",
    "    check_digit = digits.pop()\n",
    "    digits.reverse()\n",
    "    for i in range(0, len(digits), 2):\n",
    "        digits[i] *= 2\n",
    "        if digits[i] > 9:\n",
    "            digits[i] -= 9\n",
    "    total = sum(digits) + check_digit\n",
    "    if total % 10 == 0:\n",
    "        print(\"Valid Card Number\")\n",
    "    else:\n",
    "        print(\"Invalid Card Number\")\n",
    "\n",
    "card_number = input(\"Enter card number: \")\n",
    "luhn_algorithm(card_number)"
   ]
  },
  {
   "cell_type": "code",
   "execution_count": 2,
   "id": "43baf549",
   "metadata": {},
   "outputs": [
    {
     "name": "stderr",
     "output_type": "stream",
     "text": [
      "<>:2: SyntaxWarning: invalid escape sequence '\\,'\n",
      "<>:2: SyntaxWarning: invalid escape sequence '\\,'\n",
      "C:\\Users\\zainm\\AppData\\Local\\Temp\\ipykernel_16096\\1489367448.py:2: SyntaxWarning: invalid escape sequence '\\,'\n",
      "  punctuations = '''!()-[]{};:'\"\\,<>./?@#$%^&*_~'''\n"
     ]
    },
    {
     "name": "stdout",
     "output_type": "stream",
     "text": [
      "String without punctuations: hello\n"
     ]
    }
   ],
   "source": [
    "def remove_punctuations(text):\n",
    "    punctuations = '''!()-[]{};:'\"\\,<>./?@#$%^&*_~'''\n",
    "    result = \"\"\n",
    "    for char in text:\n",
    "        if char not in punctuations:\n",
    "            result += char\n",
    "    return result\n",
    "\n",
    "text = input(\"Enter a string: \")\n",
    "print(\"String without punctuations:\", remove_punctuations(text))"
   ]
  },
  {
   "cell_type": "code",
   "execution_count": 3,
   "id": "392fa797",
   "metadata": {},
   "outputs": [
    {
     "name": "stdout",
     "output_type": "stream",
     "text": [
      "Sorted sentence: am hello i zain\n"
     ]
    }
   ],
   "source": [
    "def sort_sentence(sentence):\n",
    "    words = sentence.split()\n",
    "    words.sort()\n",
    "    return \" \".join(words)\n",
    "\n",
    "sentence = input(\"Enter a sentence: \")\n",
    "print(\"Sorted sentence:\", sort_sentence(sentence))\n"
   ]
  }
 ],
 "metadata": {
  "kernelspec": {
   "display_name": "base",
   "language": "python",
   "name": "python3"
  },
  "language_info": {
   "codemirror_mode": {
    "name": "ipython",
    "version": 3
   },
   "file_extension": ".py",
   "mimetype": "text/x-python",
   "name": "python",
   "nbconvert_exporter": "python",
   "pygments_lexer": "ipython3",
   "version": "3.12.4"
  }
 },
 "nbformat": 4,
 "nbformat_minor": 5
}
