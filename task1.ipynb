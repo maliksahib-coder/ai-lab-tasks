{
 "cells": [
  {
   "cell_type": "code",
   "execution_count": 6,
   "id": "35dde3be",
   "metadata": {},
   "outputs": [
    {
     "name": "stdout",
     "output_type": "stream",
     "text": [
      "1\n",
      "2\n",
      "Fizz\n",
      "4\n",
      "Buzz\n",
      "Fizz\n",
      "7\n",
      "8\n",
      "Fizz\n",
      "Buzz\n",
      "11\n",
      "Fizz\n",
      "13\n",
      "14\n",
      "Fizz Buzz\n"
     ]
    }
   ],
   "source": [
    "for number in range(1, 16):   \n",
    "    if number % 3 == 0 and number % 5 == 0:   \n",
    "        print(\"Fizz Buzz\")\n",
    "    elif number % 3 == 0:     \n",
    "        print(\"Fizz\")\n",
    "    elif number % 5 == 0:     \n",
    "        print(\"Buzz\")\n",
    "    else:\n",
    "        print(number)\n"
   ]
  },
  {
   "cell_type": "code",
   "execution_count": 1,
   "id": "40dbb64d",
   "metadata": {},
   "outputs": [
    {
     "name": "stdout",
     "output_type": "stream",
     "text": [
      "\n",
      "Average budget: 166,688,624.88\n",
      "\n",
      "Movies above average budget:\n",
      "- Pirates of the Caribbean: On Stranger Tides: 212,311,375 above average\n",
      "- Avengers: Age of Ultron: 198,311,375 above average\n",
      "- Avengers: Endgame: 189,311,375 above average\n",
      "- Incredibles 2: 33,311,375 above average\n",
      "\n",
      "Total movies above average: 4\n"
     ]
    }
   ],
   "source": [
    "movies = [\n",
    "    (\"Eternal Sunshine of the Spotless Mind\", 20000000),\n",
    "    (\"Memento\", 9000000),\n",
    "    (\"Requiem for a Dream\", 4500000),\n",
    "    (\"Pirates of the Caribbean: On Stranger Tides\", 379000000),\n",
    "    (\"Avengers: Age of Ultron\", 365000000),\n",
    "    (\"Avengers: Endgame\", 356000000),\n",
    "    (\"Incredibles 2\", 200000000)\n",
    "]\n",
    "\n",
    "extra = int(input(\"How many movies do you want to add? \"))\n",
    "for i in range(extra):\n",
    "    name = input(f\"Enter movie {i+1} name: \")\n",
    "    budget = int(input(f\"Enter {name}'s budget: \"))\n",
    "    movies.append((name, budget))\n",
    "\n",
    "total_budget = 0\n",
    "for movie in movies:\n",
    "    total_budget += movie[1]\n",
    "\n",
    "avg_budget = total_budget / len(movies)\n",
    "print(f\"\\nAverage budget: {avg_budget:,.2f}\")\n",
    "\n",
    "above_avg = []\n",
    "for movie in movies:\n",
    "    name = movie[0]\n",
    "    budget = movie[1]\n",
    "    if budget > avg_budget:\n",
    "        diff = budget - avg_budget\n",
    "        above_avg.append((name, diff))\n",
    "\n",
    "print(\"\\nMovies above average budget:\")\n",
    "for name, diff in above_avg:\n",
    "    print(f\"- {name}: {diff:,.0f} above average\")\n",
    "\n",
    "print(f\"\\nTotal movies above average: {len(above_avg)}\")\n"
   ]
  }
 ],
 "metadata": {
  "kernelspec": {
   "display_name": "base",
   "language": "python",
   "name": "python3"
  },
  "language_info": {
   "codemirror_mode": {
    "name": "ipython",
    "version": 3
   },
   "file_extension": ".py",
   "mimetype": "text/x-python",
   "name": "python",
   "nbconvert_exporter": "python",
   "pygments_lexer": "ipython3",
   "version": "3.12.4"
  }
 },
 "nbformat": 4,
 "nbformat_minor": 5
}
