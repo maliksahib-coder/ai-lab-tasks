{
 "cells": [
  {
   "cell_type": "markdown",
   "id": "efc3808a",
   "metadata": {},
   "source": [
    "# BFS without Queue & without Node "
   ]
  },
  {
   "cell_type": "code",
   "execution_count": 2,
   "id": "64a1870e",
   "metadata": {},
   "outputs": [
    {
     "name": "stdout",
     "output_type": "stream",
     "text": [
      "Traversal: ['A', 'B', 'C', 'D', 'E', 'F', 'G', 'H', 'I', 'K', 'L', 'M']\n"
     ]
    }
   ],
   "source": [
    "graph = {\n",
    "    'A': ['B', 'C'],\n",
    "    'B': ['D', 'E'],\n",
    "    'C': ['F'],\n",
    "    'D': ['G', 'H'],\n",
    "    'E': [],\n",
    "    'F': ['I', 'K'],\n",
    "    'G': [],\n",
    "    'H': ['L'],\n",
    "    'I': [],\n",
    "    'K': ['M'],\n",
    "    'L': [],\n",
    "    'M': []\n",
    "}\n",
    "\n",
    "def bfs_without_queue(start, goal):\n",
    "    visited = [start]\n",
    "    i = 0\n",
    "    while i < len(visited):\n",
    "        node = visited[i]\n",
    "        if node == goal:\n",
    "            return visited\n",
    "        for child in graph[node]:\n",
    "            if child not in visited:\n",
    "                visited.append(child)\n",
    "        i += 1\n",
    "    return visited\n",
    "\n",
    "start = 'A'\n",
    "goal = input(\"Enter the goal state: \")\n",
    "result = bfs_without_queue(start, goal)\n",
    "print(\"Traversal:\", result)\n"
   ]
  },
  {
   "cell_type": "markdown",
   "id": "2f57438f",
   "metadata": {},
   "source": [
    "#  BFS with Queue & Node  "
   ]
  },
  {
   "cell_type": "code",
   "execution_count": 3,
   "id": "93ccbf68",
   "metadata": {},
   "outputs": [
    {
     "name": "stdout",
     "output_type": "stream",
     "text": [
      "Traversal: ['A', 'B', 'C', 'D', 'E', 'F', 'G', 'H', 'I', 'K', 'L', 'M']\n"
     ]
    }
   ],
   "source": [
    "from collections import deque\n",
    "\n",
    "graph = {\n",
    "    'A': ['B', 'C'],\n",
    "    'B': ['D', 'E'],\n",
    "    'C': ['F'],\n",
    "    'D': ['G', 'H'],\n",
    "    'E': [],\n",
    "    'F': ['I', 'K'],\n",
    "    'G': [],\n",
    "    'H': ['L'],\n",
    "    'I': [],\n",
    "    'K': ['M'],\n",
    "    'L': [],\n",
    "    'M': []\n",
    "}\n",
    "\n",
    "def bfs_with_queue(start, goal):\n",
    "    visited = []\n",
    "    queue = deque([start])\n",
    "    while queue:\n",
    "        node = queue.popleft()\n",
    "        if node not in visited:\n",
    "            visited.append(node)\n",
    "            if node == goal:\n",
    "                return visited\n",
    "            for child in graph[node]:\n",
    "                queue.append(child)\n",
    "    return visited\n",
    "\n",
    "start = 'A'\n",
    "goal = input(\"Enter the goal state: \")\n",
    "result = bfs_with_queue(start, goal)\n",
    "print(\"Traversal:\", result)\n"
   ]
  }
 ],
 "metadata": {
  "kernelspec": {
   "display_name": "base",
   "language": "python",
   "name": "python3"
  },
  "language_info": {
   "codemirror_mode": {
    "name": "ipython",
    "version": 3
   },
   "file_extension": ".py",
   "mimetype": "text/x-python",
   "name": "python",
   "nbconvert_exporter": "python",
   "pygments_lexer": "ipython3",
   "version": "3.12.4"
  }
 },
 "nbformat": 4,
 "nbformat_minor": 5
}
