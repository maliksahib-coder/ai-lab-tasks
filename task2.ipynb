{
 "cells": [
  {
   "cell_type": "code",
   "execution_count": null,
   "id": "dd1841e9",
   "metadata": {},
   "outputs": [
    {
     "name": "stdout",
     "output_type": "stream",
     "text": [
      "1\n",
      "2\n",
      "Fizz\n",
      "4\n",
      "Buzz\n",
      "Fizz\n",
      "7\n",
      "8\n",
      "Fizz\n",
      "\n",
      "Average Budget: 190500000.0\n",
      "Pirates of the Caribbean: On Stranger Tides exceeded average by 188500000.0\n",
      "Avengers: Age of Ultron exceeded average by 174500000.0\n",
      "Avengers: Endgame exceeded average by 165500000.0\n",
      "Incredibles 2 exceeded average by 9500000.0\n",
      "\n",
      "Number of movies above average: 4\n"
     ]
    }
   ],
   "source": [
    "for number in range(1, 10):\n",
    "    if number % 3 == 0 and number % 5 == 0:\n",
    "        print(\"Fizz Buzz\")\n",
    "    elif number % 3 == 0:\n",
    "        print(\"Fizz\")\n",
    "    elif number % 5 == 0:\n",
    "        print(\"Buzz\")\n",
    "    else:\n",
    "        print(number)\n",
    "\n",
    "movies = [\n",
    "    (\"Eternal Sunshine of the Spotless Mind\", 20000000),\n",
    "    (\"Memento\", 9000000),\n",
    "    (\"Requiem for a Dream\", 4500000),\n",
    "    (\"Pirates of the Caribbean: On Stranger Tides\", 379000000),\n",
    "    (\"Avengers: Age of Ultron\", 365000000),\n",
    "    (\"Avengers: Endgame\", 356000000),\n",
    "    (\"Incredibles 2\", 200000000)\n",
    "]\n",
    "\n",
    "n = int(input(\"How many movies do you want to add? \"))\n",
    "for i in range(n):\n",
    "    title = input(\"Enter movie title: \")\n",
    "    budget = int(input(\"Enter movie budget: \"))\n",
    "    movies.append((title, budget))\n",
    "\n",
    "total_budget = sum(movie[1] for movie in movies)\n",
    "average_budget = total_budget / len(movies)\n",
    "\n",
    "print(\"\\nAverage Budget:\", average_budget)\n",
    "\n",
    "count_high = 0\n",
    "for movie in movies:\n",
    "    if movie[1] > average_budget:\n",
    "        diff = movie[1] - average_budget\n",
    "        print(f\"{movie[0]} exceeded average by {diff}\")\n",
    "        count_high += 1\n",
    "\n",
    "print(\"\\nNumber of movies above average:\", count_high)\n"
   ]
  }
 ],
 "metadata": {
  "kernelspec": {
   "display_name": "base",
   "language": "python",
   "name": "python3"
  },
  "language_info": {
   "codemirror_mode": {
    "name": "ipython",
    "version": 3
   },
   "file_extension": ".py",
   "mimetype": "text/x-python",
   "name": "python",
   "nbconvert_exporter": "python",
   "pygments_lexer": "ipython3",
   "version": "3.12.4"
  }
 },
 "nbformat": 4,
 "nbformat_minor": 5
}
